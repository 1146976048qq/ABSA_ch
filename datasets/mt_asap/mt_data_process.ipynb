{
 "cells": [
  {
   "cell_type": "code",
   "execution_count": 2,
   "id": "13550294",
   "metadata": {},
   "outputs": [],
   "source": [
    "import numpy as np\n",
    "import pandas as pd\n",
    "import csv\n",
    "import time"
   ]
  },
  {
   "cell_type": "code",
   "execution_count": 112,
   "id": "64663037",
   "metadata": {},
   "outputs": [
    {
     "name": "stdout",
     "output_type": "stream",
     "text": [
      "Index(['id', 'review', 'star', 'Location#Transportation', 'Location#Downtown',\n",
      "       'Location#Easy_to_find', 'Service#Queue', 'Service#Hospitality',\n",
      "       'Service#Parking', 'Service#Timely', 'Price#Level',\n",
      "       'Price#Cost_effective', 'Price#Discount', 'Ambience#Decoration',\n",
      "       'Ambience#Noise', 'Ambience#Space', 'Ambience#Sanitary', 'Food#Portion',\n",
      "       'Food#Taste', 'Food#Appearance', 'Food#Recommend'],\n",
      "      dtype='object')\n",
      "[[46277\n",
      "  '状元楼饭店第一次去，因为地理位置优越：在宁波市和义大道高、大、上，里面装修中式，菜是地道的宁波菜，口味纯正，醉泥螺特棒，吃到了小时候的味道，因为去了晚了，在大堂等了一会儿，期间有茶水喝、服务员还与你聊天，到了就餐时生意太好，服务员都是小跑状，服务态度绝对不提速，样样都服务到位，点酒水还耐心的与我们解释，就这样绝对要夸一夸，特别是彭新星、洪继华（看服务牌才知道名字）也给我们宁波市形象增色，状元楼是宁波的一扇窗口，服务员的素质更体现我们宁波人的精神面貌。赞一个'\n",
      "  5.0 1 1 1 -2 1 -2 -2 -2 -2 -2 1 -2 -2 -2 -2 1 -2 -2]]\n",
      "(36850, 21)\n"
     ]
    }
   ],
   "source": [
    "f = pd.read_csv(\"/Users/kevin/Desktop/ASAP/asap-master/data/train.csv\")\n",
    "f = pd.DataFrame(f)\n",
    "print(f.columns)\n",
    "\n",
    "print(f.head(1).values)\n",
    "print(f.shape)"
   ]
  },
  {
   "cell_type": "code",
   "execution_count": 113,
   "id": "9252dff6",
   "metadata": {},
   "outputs": [],
   "source": [
    "### get reviewbody\n",
    "f_text = f['review']\n",
    "f_text = pd.DataFrame(f_text)\n",
    "# print(f_text[0:3])\n",
    "\n",
    "### get reviewscore\n",
    "f_star = f[\"star\"]\n",
    "# f_star = pd.DataFrame(f_star)\n",
    "# print(f_star[0:3], \"*\"*10, \"\\n\")\n",
    "\n",
    "### reset score 2 category label\n",
    "for i in range(0, 36850):\n",
    "    if f_star[i: i+1][i] > 3: ### 正面\n",
    "        f_star[i: i+1][i] = 2\n",
    "    elif f_star[i: i+1][i] == 3: ### 中性\n",
    "        f_star[i: i+1][i] = 1\n",
    "    else:\n",
    "        f_star[i: i+1][i] = 0 ### 负面\n",
    "# print(f_star[0:3], \"*\"*10, \"\\n\")\n"
   ]
  },
  {
   "cell_type": "code",
   "execution_count": 114,
   "id": "8c54b36f",
   "metadata": {},
   "outputs": [
    {
     "name": "stdout",
     "output_type": "stream",
     "text": [
      "                                                    text label\n",
      "0      状元楼饭店第一次去，因为地理位置优越：在宁波市和义大道高、大、上，里面装修中式，菜是地道的宁...   NaN\n",
      "1      我最爱他们家的猪手，麻辣鸡爪，肉片口磨，道道菜都是家常菜的味道，非常的好吃，是原来的昊烨，和...   NaN\n",
      "2      我是比较喜欢荣新馆的，因为材料新鲜，服务又好，价格适中，但是老公每次吃都会拉肚子，特神奇，我...   NaN\n",
      "3      8.8秒杀的多嘴肉蟹煲，第一天开业就去了，大众点评很给力，排了两个半小时的队才轮到，他家很年...   NaN\n",
      "4      喜欢KOI好多年了，但是看着它的价格在一路飙涨，真心是有点越来越爱不起来了呢。不过还好有大众...   NaN\n",
      "...                                                  ...   ...\n",
      "36845  才开的一个海鲜加工广场，商家很不错，老板娘和服务员都很热情，里面的加工价格也很合理，算是物美...   NaN\n",
      "36846  这是在火车站附近发现的又一个便宜实惠的小店经常坐火车，不喜欢白天走，下午的火车到青岛基本上就...   NaN\n",
      "36847  靠窗最里的位置，角度不是很好但能看到浦江景也算不错了；芦笋沙拉很好吃，我点了份烟熏鲑鱼，口感...   NaN\n",
      "36848  这家星巴克开在离家近，而且早上开的也早，所以经常会去吃早饭。环境还不错，还有露天位置，不过食...   NaN\n",
      "36849  这家面包挺新鲜的，经常来买，特别推荐它家的乐活早餐，买任意一款面包加3元就有搭配饮料，三种选...   NaN\n",
      "\n",
      "[36850 rows x 2 columns]\n",
      "                                                    text  label\n",
      "0      状元楼饭店第一次去，因为地理位置优越：在宁波市和义大道高、大、上，里面装修中式，菜是地道的宁...    2.0\n",
      "1      我最爱他们家的猪手，麻辣鸡爪，肉片口磨，道道菜都是家常菜的味道，非常的好吃，是原来的昊烨，和...    2.0\n",
      "2      我是比较喜欢荣新馆的，因为材料新鲜，服务又好，价格适中，但是老公每次吃都会拉肚子，特神奇，我...    2.0\n",
      "3      8.8秒杀的多嘴肉蟹煲，第一天开业就去了，大众点评很给力，排了两个半小时的队才轮到，他家很年...    2.0\n",
      "4      喜欢KOI好多年了，但是看着它的价格在一路飙涨，真心是有点越来越爱不起来了呢。不过还好有大众...    2.0\n",
      "...                                                  ...    ...\n",
      "36845  才开的一个海鲜加工广场，商家很不错，老板娘和服务员都很热情，里面的加工价格也很合理，算是物美...    1.0\n",
      "36846  这是在火车站附近发现的又一个便宜实惠的小店经常坐火车，不喜欢白天走，下午的火车到青岛基本上就...    2.0\n",
      "36847  靠窗最里的位置，角度不是很好但能看到浦江景也算不错了；芦笋沙拉很好吃，我点了份烟熏鲑鱼，口感...    2.0\n",
      "36848  这家星巴克开在离家近，而且早上开的也早，所以经常会去吃早饭。环境还不错，还有露天位置，不过食...    0.0\n",
      "36849  这家面包挺新鲜的，经常来买，特别推荐它家的乐活早餐，买任意一款面包加3元就有搭配饮料，三种选...    2.0\n",
      "\n",
      "[36850 rows x 2 columns]\n"
     ]
    }
   ],
   "source": [
    "f_new = pd.DataFrame(columns=['text','label'])\n",
    "\n",
    "f_new['text'] = f['review']\n",
    "print(f_new)\n",
    "\n",
    "f_new['label'] = f['star']\n",
    "print(f_new)\n",
    "\n",
    "f_new = pd.DataFrame(f_new)\n",
    "\n",
    "f_new.to_csv('/Users/kevin/Desktop/ASAP/asap-master/data/kkzhang_train.txt', sep='\\t', header=0, index=0)\n"
   ]
  },
  {
   "cell_type": "code",
   "execution_count": null,
   "id": "923ce511",
   "metadata": {},
   "outputs": [],
   "source": []
  },
  {
   "cell_type": "code",
   "execution_count": null,
   "id": "87044c5f",
   "metadata": {},
   "outputs": [],
   "source": []
  },
  {
   "cell_type": "code",
   "execution_count": null,
   "id": "c51352db",
   "metadata": {},
   "outputs": [],
   "source": []
  },
  {
   "cell_type": "code",
   "execution_count": 122,
   "id": "580d8b31",
   "metadata": {},
   "outputs": [
    {
     "name": "stdout",
     "output_type": "stream",
     "text": [
      "                                          reviewbody\n",
      "0  【正新（金冠店）】位于株洲市芦淞区火车站商圈火车站正对面，地理位置很火，像他们家这种接地气的...\n",
      "   star\n",
      "0     4 **********\n",
      "   location_traffic\n",
      "0                -2 **********\n"
     ]
    }
   ],
   "source": [
    "## get reviewbody\n",
    "f_text = f['reviewbody']\n",
    "f_text = pd.DataFrame(f_text)\n",
    "print(f_text[0:1])\n",
    "\n",
    "f_star = f[\"star\"]\n",
    "f_star = pd.DataFrame(f_star)\n",
    "print(f_star[0:1], \"*\"*10)\n",
    "\n",
    "f_aspect_1 = f[\"location_traffic\"]\n",
    "f_aspect_1 = pd.DataFrame(f_aspect_1)\n",
    "print(f_aspect_1[0:1], \"*\"*10)\n",
    "\n",
    "f_aspect_2 = f[\"location_distance_from_business_district\"]\n",
    "f_aspect_2 = pd.DataFrame(f_aspect_2)\n",
    "\n",
    "f_aspect_3 = f[\"location_easy_to_find\"]\n",
    "f_aspect_3 = pd.DataFrame(f_aspect_3)\n",
    "\n",
    "f_aspect_4 = f[\"service_wait_time\"]\n",
    "f_aspect_4 = pd.DataFrame(f_aspect_4)\n",
    "\n",
    "f_aspect_5 = f[\"service_waiters_attitude\"]\n",
    "f_aspect_5 = pd.DataFrame(f_aspect_5)\n",
    "\n",
    "f_aspect_6 = f[\"service_parking_convenience\"]\n",
    "f_aspect_6 = pd.DataFrame(f_aspect_6)\n",
    "\n",
    "f_aspect_7 = f[\"service_serving_speed\"]\n",
    "f_aspect_7 = pd.DataFrame(f_aspect_7)\n",
    "\n",
    "f_aspect_8 = f[\"price_level\"]\n",
    "f_aspect_8 = pd.DataFrame(f_aspect_8)\n",
    "\n",
    "f_aspect_9 = f[\"price_cost_effective\"]\n",
    "f_aspect_9 = pd.DataFrame(f_aspect_9)\n",
    "\n",
    "f_aspect_10 = f[\"price_discount\"]\n",
    "f_aspect_10 = pd.DataFrame(f_aspect_10)\n",
    "\n",
    "f_aspect_11 = f[\"environment_decoration\"]\n",
    "f_aspect_11 = pd.DataFrame(f_aspect_11)\n",
    "\n",
    "f_aspect_12 = f[\"environment_noise\"]\n",
    "f_aspect_12 = pd.DataFrame(f_aspect_12)\n",
    "\n",
    "f_aspect_13 = f[\"environment_space\"]\n",
    "f_aspect_13 = pd.DataFrame(f_aspect_13)\n",
    "\n",
    "f_aspect_14 = f[\"environment_cleaness\"]\n",
    "f_aspect_14 = pd.DataFrame(f_aspect_14)\n",
    "\n",
    "f_aspect_15 = f[\"dish_portion\"]\n",
    "f_aspect_15 = pd.DataFrame(f_aspect_15)\n",
    "\n",
    "f_aspect_16 = f[\"dish_taste\"]\n",
    "f_aspect_16 = pd.DataFrame(f_aspect_16)\n",
    "\n",
    "f_aspect_17 = f[\"dish_look\"]\n",
    "f_aspect_17 = pd.DataFrame(f_aspect_17)\n",
    "\n",
    "f_aspect_18 = f[\"dish_recommendation\"]\n",
    "f_aspect_18 = pd.DataFrame(f_aspect_18)"
   ]
  },
  {
   "cell_type": "code",
   "execution_count": 1,
   "id": "f4f9c40d",
   "metadata": {},
   "outputs": [
    {
     "ename": "NameError",
     "evalue": "name 'pd' is not defined",
     "output_type": "error",
     "traceback": [
      "\u001b[0;31m---------------------------------------------------------------------------\u001b[0m",
      "\u001b[0;31mNameError\u001b[0m                                 Traceback (most recent call last)",
      "\u001b[0;32m<ipython-input-1-41a1bac7f5cd>\u001b[0m in \u001b[0;36m<module>\u001b[0;34m\u001b[0m\n\u001b[0;32m----> 1\u001b[0;31m \u001b[0mf_new\u001b[0m \u001b[0;34m=\u001b[0m \u001b[0mpd\u001b[0m\u001b[0;34m.\u001b[0m\u001b[0mDataFrame\u001b[0m\u001b[0;34m(\u001b[0m\u001b[0mcolumns\u001b[0m\u001b[0;34m=\u001b[0m\u001b[0;34m[\u001b[0m\u001b[0;34m'text'\u001b[0m\u001b[0;34m,\u001b[0m\u001b[0;34m'aspect'\u001b[0m\u001b[0;34m,\u001b[0m\u001b[0;34m'label'\u001b[0m\u001b[0;34m]\u001b[0m\u001b[0;34m)\u001b[0m\u001b[0;34m\u001b[0m\u001b[0;34m\u001b[0m\u001b[0m\n\u001b[0m\u001b[1;32m      2\u001b[0m \u001b[0;34m\u001b[0m\u001b[0m\n\u001b[1;32m      3\u001b[0m \u001b[0mprint\u001b[0m \u001b[0;34m(\u001b[0m\u001b[0mf_text\u001b[0m\u001b[0;34m[\u001b[0m\u001b[0;36m1\u001b[0m\u001b[0;34m:\u001b[0m\u001b[0;36m2\u001b[0m\u001b[0;34m]\u001b[0m\u001b[0;34m)\u001b[0m\u001b[0;34m\u001b[0m\u001b[0;34m\u001b[0m\u001b[0m\n\u001b[1;32m      4\u001b[0m \u001b[0;34m\u001b[0m\u001b[0m\n\u001b[1;32m      5\u001b[0m \u001b[0mf_new\u001b[0m\u001b[0;34m.\u001b[0m\u001b[0mloc\u001b[0m\u001b[0;34m[\u001b[0m\u001b[0;34m'text'\u001b[0m\u001b[0;34m]\u001b[0m \u001b[0;34m=\u001b[0m \u001b[0;34m[\u001b[0m\u001b[0mf_text\u001b[0m\u001b[0;34m[\u001b[0m\u001b[0;36m1\u001b[0m\u001b[0;34m:\u001b[0m\u001b[0;36m2\u001b[0m\u001b[0;34m]\u001b[0m\u001b[0;34m,\u001b[0m \u001b[0mf_aspect_1\u001b[0m\u001b[0;34m[\u001b[0m\u001b[0;36m0\u001b[0m\u001b[0;34m:\u001b[0m\u001b[0;36m1\u001b[0m\u001b[0;34m]\u001b[0m\u001b[0;34m,\u001b[0m \u001b[0;34m'a'\u001b[0m\u001b[0;34m]\u001b[0m\u001b[0;34m\u001b[0m\u001b[0;34m\u001b[0m\u001b[0m\n",
      "\u001b[0;31mNameError\u001b[0m: name 'pd' is not defined"
     ]
    }
   ],
   "source": [
    "f_new = pd.DataFrame(columns=['text','aspect','label'])\n",
    "\n",
    "print (f_text[1:2])\n",
    "\n",
    "f_new.loc['text'] = [f_text[1:2], f_aspect_1[0:1], 'a']\n",
    "\n",
    "print(f_new['text'])\n",
    "\n",
    "# 循环应该是作用于添加数据条目的\n",
    "# for i in range (1, 10):\n",
    "#     print(i)\n",
    "#     f_new.append(f_text[i:i+1])  \n",
    "# f_new.to_csv(\"/Users/kevin/Desktop/ASAP/asap-master/data/dev_sample_text.csv\")"
   ]
  },
  {
   "cell_type": "code",
   "execution_count": null,
   "id": "f897e1df",
   "metadata": {},
   "outputs": [],
   "source": []
  },
  {
   "cell_type": "code",
   "execution_count": null,
   "id": "79c0af5f",
   "metadata": {},
   "outputs": [],
   "source": []
  },
  {
   "cell_type": "code",
   "execution_count": null,
   "id": "bd92de82",
   "metadata": {},
   "outputs": [],
   "source": []
  },
  {
   "cell_type": "code",
   "execution_count": null,
   "id": "05fc8d8e",
   "metadata": {},
   "outputs": [],
   "source": []
  },
  {
   "cell_type": "code",
   "execution_count": null,
   "id": "ae3070a9",
   "metadata": {},
   "outputs": [],
   "source": []
  },
  {
   "cell_type": "code",
   "execution_count": null,
   "id": "54fed9ce",
   "metadata": {},
   "outputs": [],
   "source": []
  }
 ],
 "metadata": {
  "kernelspec": {
   "display_name": "Python 3",
   "language": "python",
   "name": "python3"
  },
  "language_info": {
   "codemirror_mode": {
    "name": "ipython",
    "version": 3
   },
   "file_extension": ".py",
   "mimetype": "text/x-python",
   "name": "python",
   "nbconvert_exporter": "python",
   "pygments_lexer": "ipython3",
   "version": "3.8.8"
  }
 },
 "nbformat": 4,
 "nbformat_minor": 5
}
